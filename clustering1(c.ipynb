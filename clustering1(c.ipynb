{
 "cells": [
  {
   "cell_type": "code",
   "execution_count": 1,
   "id": "75af1e77",
   "metadata": {},
   "outputs": [],
   "source": [
    "import scipy.cluster.hierarchy as sch\n",
    "from sklearn.cluster import AgglomerativeClustering\n",
    "import numpy as np\n",
    "import pandas as pd \n",
    "from matplotlib import pyplot as plt\n",
    "import seaborn as sn\n",
    "from sklearn.cluster import KMeans\n",
    "import warnings\n",
    "warnings.filterwarnings(\"ignore\")"
   ]
  },
  {
   "cell_type": "code",
   "execution_count": 2,
   "id": "ec162571",
   "metadata": {},
   "outputs": [
    {
     "name": "stdout",
     "output_type": "stream",
     "text": [
      " Volume in drive C has no label.\n",
      " Volume Serial Number is 6489-7534\n",
      "\n",
      " Directory of C:\\Users\\Dell\\Desktop\\New folder\n",
      "\n",
      "14-01-2023  01:13    <DIR>          .\n",
      "14-01-2023  01:09    <DIR>          ..\n",
      "14-01-2023  01:12    <DIR>          .ipynb_checkpoints\n",
      "28-12-2022  13:08             2,436 50_Startups (1).csv\n",
      "26-12-2022  17:18             2,436 50_Startups.csv\n",
      "11-01-2023  21:19           754,033 50strtup.ipynb\n",
      "03-01-2023  16:38           111,916 association book.ipynb\n",
      "03-01-2023  17:12           162,936 association.movies.ipynb\n",
      "29-12-2022  16:49         4,610,348 bank-full.csv\n",
      "03-01-2023  17:13           536,483 book (1).csv\n",
      "30-12-2022  17:35            46,094 book.csv\n",
      "06-01-2023  22:53           141,306 clustering1(c.ipynb\n",
      "14-01-2023  01:12           187,554 Crime_Clustring.ipynb\n",
      "06-01-2023  20:56             1,328 crime_data.csv\n",
      "21-12-2022  23:48            59,182 delivery.slr.ipynb\n",
      "28-12-2022  12:23               218 delivery_time.csv\n",
      "06-01-2023  20:56           268,963 EastWestAirlines.xlsx\n",
      "27-12-2022  12:42            79,994 Fraud_Case.ipynb\n",
      "27-12-2022  11:34            21,837 Fraud_check.csv\n",
      "30-12-2022  17:33            55,579 logestic reggresion.18.bank.ipynb\n",
      "03-01-2023  11:42            12,089 logisticdrawback.csv\n",
      "30-12-2022  17:35               767 my_movies.csv\n",
      "06-12-2022  22:07             2,205 Salaries.csv\n",
      "13-01-2023  22:53            67,477 Salary.slr.ipynb\n",
      "28-12-2022  12:23               454 Salary_Data.csv\n",
      "11-01-2023  21:00         2,663,690 toyota_coralla.ass.ipynb\n",
      "28-12-2022  13:08           224,041 ToyotaCorolla (1).csv\n",
      "26-12-2022  17:19           224,041 ToyotaCorolla.csv\n",
      "11-01-2023  20:41                72 Untitled.ipynb\n",
      "              26 File(s)     10,237,479 bytes\n",
      "               3 Dir(s)  209,627,656,192 bytes free\n"
     ]
    }
   ],
   "source": [
    "ls"
   ]
  },
  {
   "cell_type": "code",
   "execution_count": 3,
   "id": "a13345fb",
   "metadata": {},
   "outputs": [],
   "source": [
    "df=pd.read_csv(\"crime_data.csv\")"
   ]
  },
  {
   "cell_type": "code",
   "execution_count": 4,
   "id": "b391fd27",
   "metadata": {},
   "outputs": [
    {
     "data": {
      "text/html": [
       "<div>\n",
       "<style scoped>\n",
       "    .dataframe tbody tr th:only-of-type {\n",
       "        vertical-align: middle;\n",
       "    }\n",
       "\n",
       "    .dataframe tbody tr th {\n",
       "        vertical-align: top;\n",
       "    }\n",
       "\n",
       "    .dataframe thead th {\n",
       "        text-align: right;\n",
       "    }\n",
       "</style>\n",
       "<table border=\"1\" class=\"dataframe\">\n",
       "  <thead>\n",
       "    <tr style=\"text-align: right;\">\n",
       "      <th></th>\n",
       "      <th>Unnamed: 0</th>\n",
       "      <th>Murder</th>\n",
       "      <th>Assault</th>\n",
       "      <th>UrbanPop</th>\n",
       "      <th>Rape</th>\n",
       "    </tr>\n",
       "  </thead>\n",
       "  <tbody>\n",
       "    <tr>\n",
       "      <th>0</th>\n",
       "      <td>Alabama</td>\n",
       "      <td>13.2</td>\n",
       "      <td>236</td>\n",
       "      <td>58</td>\n",
       "      <td>21.2</td>\n",
       "    </tr>\n",
       "    <tr>\n",
       "      <th>1</th>\n",
       "      <td>Alaska</td>\n",
       "      <td>10.0</td>\n",
       "      <td>263</td>\n",
       "      <td>48</td>\n",
       "      <td>44.5</td>\n",
       "    </tr>\n",
       "    <tr>\n",
       "      <th>2</th>\n",
       "      <td>Arizona</td>\n",
       "      <td>8.1</td>\n",
       "      <td>294</td>\n",
       "      <td>80</td>\n",
       "      <td>31.0</td>\n",
       "    </tr>\n",
       "    <tr>\n",
       "      <th>3</th>\n",
       "      <td>Arkansas</td>\n",
       "      <td>8.8</td>\n",
       "      <td>190</td>\n",
       "      <td>50</td>\n",
       "      <td>19.5</td>\n",
       "    </tr>\n",
       "    <tr>\n",
       "      <th>4</th>\n",
       "      <td>California</td>\n",
       "      <td>9.0</td>\n",
       "      <td>276</td>\n",
       "      <td>91</td>\n",
       "      <td>40.6</td>\n",
       "    </tr>\n",
       "  </tbody>\n",
       "</table>\n",
       "</div>"
      ],
      "text/plain": [
       "   Unnamed: 0  Murder  Assault  UrbanPop  Rape\n",
       "0     Alabama    13.2      236        58  21.2\n",
       "1      Alaska    10.0      263        48  44.5\n",
       "2     Arizona     8.1      294        80  31.0\n",
       "3    Arkansas     8.8      190        50  19.5\n",
       "4  California     9.0      276        91  40.6"
      ]
     },
     "execution_count": 4,
     "metadata": {},
     "output_type": "execute_result"
    }
   ],
   "source": [
    "df.head()"
   ]
  },
  {
   "cell_type": "markdown",
   "id": "e36abb5f",
   "metadata": {},
   "source": [
    "# Scaling info"
   ]
  },
  {
   "cell_type": "raw",
   "id": "d79e0b38",
   "metadata": {},
   "source": [
    "1. minmaxscaler\n",
    "2.standard Scaler\n",
    "3.Robust scaler\n",
    "\n",
    "In this we use minmax Scaler"
   ]
  },
  {
   "cell_type": "markdown",
   "id": "7681f3e2",
   "metadata": {},
   "source": [
    "# Hierarchical"
   ]
  },
  {
   "cell_type": "code",
   "execution_count": 5,
   "id": "37b5acfe",
   "metadata": {},
   "outputs": [],
   "source": [
    "#normalization\n",
    "def norm_func(i):\n",
    "    x = (i-i.min())/(i.max()-i.min())\n",
    "    return x"
   ]
  },
  {
   "cell_type": "code",
   "execution_count": 6,
   "id": "3688820c",
   "metadata": {},
   "outputs": [],
   "source": [
    "df1_n = norm_func(df.iloc[:,1:])"
   ]
  },
  {
   "cell_type": "code",
   "execution_count": 7,
   "id": "b66ca955",
   "metadata": {},
   "outputs": [
    {
     "data": {
      "text/html": [
       "<div>\n",
       "<style scoped>\n",
       "    .dataframe tbody tr th:only-of-type {\n",
       "        vertical-align: middle;\n",
       "    }\n",
       "\n",
       "    .dataframe tbody tr th {\n",
       "        vertical-align: top;\n",
       "    }\n",
       "\n",
       "    .dataframe thead th {\n",
       "        text-align: right;\n",
       "    }\n",
       "</style>\n",
       "<table border=\"1\" class=\"dataframe\">\n",
       "  <thead>\n",
       "    <tr style=\"text-align: right;\">\n",
       "      <th></th>\n",
       "      <th>Murder</th>\n",
       "      <th>Assault</th>\n",
       "      <th>UrbanPop</th>\n",
       "      <th>Rape</th>\n",
       "    </tr>\n",
       "  </thead>\n",
       "  <tbody>\n",
       "    <tr>\n",
       "      <th>0</th>\n",
       "      <td>0.746988</td>\n",
       "      <td>0.654110</td>\n",
       "      <td>0.440678</td>\n",
       "      <td>0.359173</td>\n",
       "    </tr>\n",
       "    <tr>\n",
       "      <th>1</th>\n",
       "      <td>0.554217</td>\n",
       "      <td>0.746575</td>\n",
       "      <td>0.271186</td>\n",
       "      <td>0.961240</td>\n",
       "    </tr>\n",
       "    <tr>\n",
       "      <th>2</th>\n",
       "      <td>0.439759</td>\n",
       "      <td>0.852740</td>\n",
       "      <td>0.813559</td>\n",
       "      <td>0.612403</td>\n",
       "    </tr>\n",
       "    <tr>\n",
       "      <th>3</th>\n",
       "      <td>0.481928</td>\n",
       "      <td>0.496575</td>\n",
       "      <td>0.305085</td>\n",
       "      <td>0.315245</td>\n",
       "    </tr>\n",
       "    <tr>\n",
       "      <th>4</th>\n",
       "      <td>0.493976</td>\n",
       "      <td>0.791096</td>\n",
       "      <td>1.000000</td>\n",
       "      <td>0.860465</td>\n",
       "    </tr>\n",
       "    <tr>\n",
       "      <th>5</th>\n",
       "      <td>0.427711</td>\n",
       "      <td>0.544521</td>\n",
       "      <td>0.779661</td>\n",
       "      <td>0.811370</td>\n",
       "    </tr>\n",
       "    <tr>\n",
       "      <th>6</th>\n",
       "      <td>0.150602</td>\n",
       "      <td>0.222603</td>\n",
       "      <td>0.762712</td>\n",
       "      <td>0.098191</td>\n",
       "    </tr>\n",
       "    <tr>\n",
       "      <th>7</th>\n",
       "      <td>0.307229</td>\n",
       "      <td>0.660959</td>\n",
       "      <td>0.677966</td>\n",
       "      <td>0.219638</td>\n",
       "    </tr>\n",
       "    <tr>\n",
       "      <th>8</th>\n",
       "      <td>0.879518</td>\n",
       "      <td>0.993151</td>\n",
       "      <td>0.813559</td>\n",
       "      <td>0.635659</td>\n",
       "    </tr>\n",
       "    <tr>\n",
       "      <th>9</th>\n",
       "      <td>1.000000</td>\n",
       "      <td>0.568493</td>\n",
       "      <td>0.474576</td>\n",
       "      <td>0.478036</td>\n",
       "    </tr>\n",
       "    <tr>\n",
       "      <th>10</th>\n",
       "      <td>0.271084</td>\n",
       "      <td>0.003425</td>\n",
       "      <td>0.864407</td>\n",
       "      <td>0.333333</td>\n",
       "    </tr>\n",
       "    <tr>\n",
       "      <th>11</th>\n",
       "      <td>0.108434</td>\n",
       "      <td>0.256849</td>\n",
       "      <td>0.372881</td>\n",
       "      <td>0.178295</td>\n",
       "    </tr>\n",
       "    <tr>\n",
       "      <th>12</th>\n",
       "      <td>0.578313</td>\n",
       "      <td>0.698630</td>\n",
       "      <td>0.864407</td>\n",
       "      <td>0.431525</td>\n",
       "    </tr>\n",
       "    <tr>\n",
       "      <th>13</th>\n",
       "      <td>0.385542</td>\n",
       "      <td>0.232877</td>\n",
       "      <td>0.559322</td>\n",
       "      <td>0.354005</td>\n",
       "    </tr>\n",
       "    <tr>\n",
       "      <th>14</th>\n",
       "      <td>0.084337</td>\n",
       "      <td>0.037671</td>\n",
       "      <td>0.423729</td>\n",
       "      <td>0.103359</td>\n",
       "    </tr>\n",
       "    <tr>\n",
       "      <th>15</th>\n",
       "      <td>0.313253</td>\n",
       "      <td>0.239726</td>\n",
       "      <td>0.576271</td>\n",
       "      <td>0.276486</td>\n",
       "    </tr>\n",
       "    <tr>\n",
       "      <th>16</th>\n",
       "      <td>0.536145</td>\n",
       "      <td>0.219178</td>\n",
       "      <td>0.338983</td>\n",
       "      <td>0.232558</td>\n",
       "    </tr>\n",
       "    <tr>\n",
       "      <th>17</th>\n",
       "      <td>0.879518</td>\n",
       "      <td>0.698630</td>\n",
       "      <td>0.576271</td>\n",
       "      <td>0.385013</td>\n",
       "    </tr>\n",
       "    <tr>\n",
       "      <th>18</th>\n",
       "      <td>0.078313</td>\n",
       "      <td>0.130137</td>\n",
       "      <td>0.322034</td>\n",
       "      <td>0.012920</td>\n",
       "    </tr>\n",
       "    <tr>\n",
       "      <th>19</th>\n",
       "      <td>0.632530</td>\n",
       "      <td>0.873288</td>\n",
       "      <td>0.593220</td>\n",
       "      <td>0.529716</td>\n",
       "    </tr>\n",
       "    <tr>\n",
       "      <th>20</th>\n",
       "      <td>0.216867</td>\n",
       "      <td>0.356164</td>\n",
       "      <td>0.898305</td>\n",
       "      <td>0.232558</td>\n",
       "    </tr>\n",
       "    <tr>\n",
       "      <th>21</th>\n",
       "      <td>0.680723</td>\n",
       "      <td>0.719178</td>\n",
       "      <td>0.711864</td>\n",
       "      <td>0.718346</td>\n",
       "    </tr>\n",
       "    <tr>\n",
       "      <th>22</th>\n",
       "      <td>0.114458</td>\n",
       "      <td>0.092466</td>\n",
       "      <td>0.576271</td>\n",
       "      <td>0.196382</td>\n",
       "    </tr>\n",
       "    <tr>\n",
       "      <th>23</th>\n",
       "      <td>0.921687</td>\n",
       "      <td>0.732877</td>\n",
       "      <td>0.203390</td>\n",
       "      <td>0.253230</td>\n",
       "    </tr>\n",
       "    <tr>\n",
       "      <th>24</th>\n",
       "      <td>0.493976</td>\n",
       "      <td>0.455479</td>\n",
       "      <td>0.644068</td>\n",
       "      <td>0.540052</td>\n",
       "    </tr>\n",
       "    <tr>\n",
       "      <th>25</th>\n",
       "      <td>0.313253</td>\n",
       "      <td>0.219178</td>\n",
       "      <td>0.355932</td>\n",
       "      <td>0.235142</td>\n",
       "    </tr>\n",
       "    <tr>\n",
       "      <th>26</th>\n",
       "      <td>0.210843</td>\n",
       "      <td>0.195205</td>\n",
       "      <td>0.508475</td>\n",
       "      <td>0.237726</td>\n",
       "    </tr>\n",
       "    <tr>\n",
       "      <th>27</th>\n",
       "      <td>0.686747</td>\n",
       "      <td>0.708904</td>\n",
       "      <td>0.830508</td>\n",
       "      <td>1.000000</td>\n",
       "    </tr>\n",
       "    <tr>\n",
       "      <th>28</th>\n",
       "      <td>0.078313</td>\n",
       "      <td>0.041096</td>\n",
       "      <td>0.406780</td>\n",
       "      <td>0.056848</td>\n",
       "    </tr>\n",
       "    <tr>\n",
       "      <th>29</th>\n",
       "      <td>0.397590</td>\n",
       "      <td>0.390411</td>\n",
       "      <td>0.966102</td>\n",
       "      <td>0.297158</td>\n",
       "    </tr>\n",
       "    <tr>\n",
       "      <th>30</th>\n",
       "      <td>0.638554</td>\n",
       "      <td>0.821918</td>\n",
       "      <td>0.644068</td>\n",
       "      <td>0.640827</td>\n",
       "    </tr>\n",
       "    <tr>\n",
       "      <th>31</th>\n",
       "      <td>0.620482</td>\n",
       "      <td>0.715753</td>\n",
       "      <td>0.915254</td>\n",
       "      <td>0.485788</td>\n",
       "    </tr>\n",
       "    <tr>\n",
       "      <th>32</th>\n",
       "      <td>0.734940</td>\n",
       "      <td>1.000000</td>\n",
       "      <td>0.220339</td>\n",
       "      <td>0.227390</td>\n",
       "    </tr>\n",
       "    <tr>\n",
       "      <th>33</th>\n",
       "      <td>0.000000</td>\n",
       "      <td>0.000000</td>\n",
       "      <td>0.203390</td>\n",
       "      <td>0.000000</td>\n",
       "    </tr>\n",
       "    <tr>\n",
       "      <th>34</th>\n",
       "      <td>0.391566</td>\n",
       "      <td>0.256849</td>\n",
       "      <td>0.728814</td>\n",
       "      <td>0.364341</td>\n",
       "    </tr>\n",
       "    <tr>\n",
       "      <th>35</th>\n",
       "      <td>0.349398</td>\n",
       "      <td>0.363014</td>\n",
       "      <td>0.610169</td>\n",
       "      <td>0.328165</td>\n",
       "    </tr>\n",
       "    <tr>\n",
       "      <th>36</th>\n",
       "      <td>0.246988</td>\n",
       "      <td>0.390411</td>\n",
       "      <td>0.593220</td>\n",
       "      <td>0.568475</td>\n",
       "    </tr>\n",
       "    <tr>\n",
       "      <th>37</th>\n",
       "      <td>0.331325</td>\n",
       "      <td>0.208904</td>\n",
       "      <td>0.677966</td>\n",
       "      <td>0.196382</td>\n",
       "    </tr>\n",
       "    <tr>\n",
       "      <th>38</th>\n",
       "      <td>0.156627</td>\n",
       "      <td>0.441781</td>\n",
       "      <td>0.932203</td>\n",
       "      <td>0.025840</td>\n",
       "    </tr>\n",
       "    <tr>\n",
       "      <th>39</th>\n",
       "      <td>0.819277</td>\n",
       "      <td>0.801370</td>\n",
       "      <td>0.271186</td>\n",
       "      <td>0.392765</td>\n",
       "    </tr>\n",
       "    <tr>\n",
       "      <th>40</th>\n",
       "      <td>0.180723</td>\n",
       "      <td>0.140411</td>\n",
       "      <td>0.220339</td>\n",
       "      <td>0.142119</td>\n",
       "    </tr>\n",
       "    <tr>\n",
       "      <th>41</th>\n",
       "      <td>0.746988</td>\n",
       "      <td>0.489726</td>\n",
       "      <td>0.457627</td>\n",
       "      <td>0.506460</td>\n",
       "    </tr>\n",
       "    <tr>\n",
       "      <th>42</th>\n",
       "      <td>0.716867</td>\n",
       "      <td>0.534247</td>\n",
       "      <td>0.813559</td>\n",
       "      <td>0.470284</td>\n",
       "    </tr>\n",
       "    <tr>\n",
       "      <th>43</th>\n",
       "      <td>0.144578</td>\n",
       "      <td>0.256849</td>\n",
       "      <td>0.813559</td>\n",
       "      <td>0.403101</td>\n",
       "    </tr>\n",
       "    <tr>\n",
       "      <th>44</th>\n",
       "      <td>0.084337</td>\n",
       "      <td>0.010274</td>\n",
       "      <td>0.000000</td>\n",
       "      <td>0.100775</td>\n",
       "    </tr>\n",
       "    <tr>\n",
       "      <th>45</th>\n",
       "      <td>0.463855</td>\n",
       "      <td>0.380137</td>\n",
       "      <td>0.525424</td>\n",
       "      <td>0.346253</td>\n",
       "    </tr>\n",
       "    <tr>\n",
       "      <th>46</th>\n",
       "      <td>0.192771</td>\n",
       "      <td>0.342466</td>\n",
       "      <td>0.694915</td>\n",
       "      <td>0.488372</td>\n",
       "    </tr>\n",
       "    <tr>\n",
       "      <th>47</th>\n",
       "      <td>0.295181</td>\n",
       "      <td>0.123288</td>\n",
       "      <td>0.118644</td>\n",
       "      <td>0.051680</td>\n",
       "    </tr>\n",
       "    <tr>\n",
       "      <th>48</th>\n",
       "      <td>0.108434</td>\n",
       "      <td>0.027397</td>\n",
       "      <td>0.576271</td>\n",
       "      <td>0.090439</td>\n",
       "    </tr>\n",
       "    <tr>\n",
       "      <th>49</th>\n",
       "      <td>0.361446</td>\n",
       "      <td>0.397260</td>\n",
       "      <td>0.474576</td>\n",
       "      <td>0.214470</td>\n",
       "    </tr>\n",
       "  </tbody>\n",
       "</table>\n",
       "</div>"
      ],
      "text/plain": [
       "      Murder   Assault  UrbanPop      Rape\n",
       "0   0.746988  0.654110  0.440678  0.359173\n",
       "1   0.554217  0.746575  0.271186  0.961240\n",
       "2   0.439759  0.852740  0.813559  0.612403\n",
       "3   0.481928  0.496575  0.305085  0.315245\n",
       "4   0.493976  0.791096  1.000000  0.860465\n",
       "5   0.427711  0.544521  0.779661  0.811370\n",
       "6   0.150602  0.222603  0.762712  0.098191\n",
       "7   0.307229  0.660959  0.677966  0.219638\n",
       "8   0.879518  0.993151  0.813559  0.635659\n",
       "9   1.000000  0.568493  0.474576  0.478036\n",
       "10  0.271084  0.003425  0.864407  0.333333\n",
       "11  0.108434  0.256849  0.372881  0.178295\n",
       "12  0.578313  0.698630  0.864407  0.431525\n",
       "13  0.385542  0.232877  0.559322  0.354005\n",
       "14  0.084337  0.037671  0.423729  0.103359\n",
       "15  0.313253  0.239726  0.576271  0.276486\n",
       "16  0.536145  0.219178  0.338983  0.232558\n",
       "17  0.879518  0.698630  0.576271  0.385013\n",
       "18  0.078313  0.130137  0.322034  0.012920\n",
       "19  0.632530  0.873288  0.593220  0.529716\n",
       "20  0.216867  0.356164  0.898305  0.232558\n",
       "21  0.680723  0.719178  0.711864  0.718346\n",
       "22  0.114458  0.092466  0.576271  0.196382\n",
       "23  0.921687  0.732877  0.203390  0.253230\n",
       "24  0.493976  0.455479  0.644068  0.540052\n",
       "25  0.313253  0.219178  0.355932  0.235142\n",
       "26  0.210843  0.195205  0.508475  0.237726\n",
       "27  0.686747  0.708904  0.830508  1.000000\n",
       "28  0.078313  0.041096  0.406780  0.056848\n",
       "29  0.397590  0.390411  0.966102  0.297158\n",
       "30  0.638554  0.821918  0.644068  0.640827\n",
       "31  0.620482  0.715753  0.915254  0.485788\n",
       "32  0.734940  1.000000  0.220339  0.227390\n",
       "33  0.000000  0.000000  0.203390  0.000000\n",
       "34  0.391566  0.256849  0.728814  0.364341\n",
       "35  0.349398  0.363014  0.610169  0.328165\n",
       "36  0.246988  0.390411  0.593220  0.568475\n",
       "37  0.331325  0.208904  0.677966  0.196382\n",
       "38  0.156627  0.441781  0.932203  0.025840\n",
       "39  0.819277  0.801370  0.271186  0.392765\n",
       "40  0.180723  0.140411  0.220339  0.142119\n",
       "41  0.746988  0.489726  0.457627  0.506460\n",
       "42  0.716867  0.534247  0.813559  0.470284\n",
       "43  0.144578  0.256849  0.813559  0.403101\n",
       "44  0.084337  0.010274  0.000000  0.100775\n",
       "45  0.463855  0.380137  0.525424  0.346253\n",
       "46  0.192771  0.342466  0.694915  0.488372\n",
       "47  0.295181  0.123288  0.118644  0.051680\n",
       "48  0.108434  0.027397  0.576271  0.090439\n",
       "49  0.361446  0.397260  0.474576  0.214470"
      ]
     },
     "execution_count": 7,
     "metadata": {},
     "output_type": "execute_result"
    }
   ],
   "source": [
    "df1_n.iloc[:,:]"
   ]
  },
  {
   "cell_type": "code",
   "execution_count": 8,
   "id": "a5ee56e5",
   "metadata": {},
   "outputs": [
    {
     "data": {
      "image/png": "[encoded data removed]",
      "text/plain": [
       "<Figure size 640x480 with 1 Axes>"
      ]
     },
     "metadata": {},
     "output_type": "display_data"
    }
   ],
   "source": [
    "dendogram=sch.dendrogram(sch.linkage(df1_n, method='complete'))"
   ]
  },
  {
   "cell_type": "code",
   "execution_count": 9,
   "id": "cb17b733",
   "metadata": {},
   "outputs": [
    {
     "data": {
      "image/png": "[encoded data removed]",
      "text/plain": [
       "<Figure size 640x480 with 1 Axes>"
      ]
     },
     "metadata": {},
     "output_type": "display_data"
    }
   ],
   "source": [
    "dendogram=sch.dendrogram(sch.linkage(df1_n, method='single'))"
   ]
  },
  {
   "cell_type": "code",
   "execution_count": 10,
   "id": "6f58ab80",
   "metadata": {},
   "outputs": [],
   "source": [
    "hi = AgglomerativeClustering(n_clusters=5, affinity='euclidean',linkage='complete')"
   ]
  },
  {
   "cell_type": "code",
   "execution_count": 11,
   "id": "b523119b",
   "metadata": {},
   "outputs": [
    {
     "data": {
      "text/plain": [
       "array([3, 4, 1, 0, 1, 1, 0, 0, 1, 3, 0, 2, 1, 0, 2, 0, 0, 3, 2, 1, 0, 1,\n",
       "       0, 3, 1, 2, 2, 1, 2, 0, 1, 1, 3, 2, 0, 0, 0, 0, 0, 3, 2, 3, 1, 0,\n",
       "       2, 0, 0, 2, 0, 0], dtype=int64)"
      ]
     },
     "execution_count": 11,
     "metadata": {},
     "output_type": "execute_result"
    }
   ],
   "source": [
    "hi.fit_predict(df1_n)"
   ]
  },
  {
   "cell_type": "code",
   "execution_count": 12,
   "id": "9099af90",
   "metadata": {},
   "outputs": [],
   "source": [
    "y_hi = hi.fit_predict(df1_n)"
   ]
  },
  {
   "cell_type": "code",
   "execution_count": 13,
   "id": "121bf691",
   "metadata": {},
   "outputs": [],
   "source": [
    "df['h_clusterid'] = y_hi"
   ]
  },
  {
   "cell_type": "code",
   "execution_count": 14,
   "id": "b05349a2",
   "metadata": {},
   "outputs": [
    {
     "data": {
      "text/html": [
       "<div>\n",
       "<style scoped>\n",
       "    .dataframe tbody tr th:only-of-type {\n",
       "        vertical-align: middle;\n",
       "    }\n",
       "\n",
       "    .dataframe tbody tr th {\n",
       "        vertical-align: top;\n",
       "    }\n",
       "\n",
       "    .dataframe thead th {\n",
       "        text-align: right;\n",
       "    }\n",
       "</style>\n",
       "<table border=\"1\" class=\"dataframe\">\n",
       "  <thead>\n",
       "    <tr style=\"text-align: right;\">\n",
       "      <th></th>\n",
       "      <th>Unnamed: 0</th>\n",
       "      <th>Murder</th>\n",
       "      <th>Assault</th>\n",
       "      <th>UrbanPop</th>\n",
       "      <th>Rape</th>\n",
       "      <th>h_clusterid</th>\n",
       "    </tr>\n",
       "  </thead>\n",
       "  <tbody>\n",
       "    <tr>\n",
       "      <th>0</th>\n",
       "      <td>Alabama</td>\n",
       "      <td>13.2</td>\n",
       "      <td>236</td>\n",
       "      <td>58</td>\n",
       "      <td>21.2</td>\n",
       "      <td>3</td>\n",
       "    </tr>\n",
       "    <tr>\n",
       "      <th>1</th>\n",
       "      <td>Alaska</td>\n",
       "      <td>10.0</td>\n",
       "      <td>263</td>\n",
       "      <td>48</td>\n",
       "      <td>44.5</td>\n",
       "      <td>4</td>\n",
       "    </tr>\n",
       "    <tr>\n",
       "      <th>2</th>\n",
       "      <td>Arizona</td>\n",
       "      <td>8.1</td>\n",
       "      <td>294</td>\n",
       "      <td>80</td>\n",
       "      <td>31.0</td>\n",
       "      <td>1</td>\n",
       "    </tr>\n",
       "  </tbody>\n",
       "</table>\n",
       "</div>"
      ],
      "text/plain": [
       "  Unnamed: 0  Murder  Assault  UrbanPop  Rape  h_clusterid\n",
       "0    Alabama    13.2      236        58  21.2            3\n",
       "1     Alaska    10.0      263        48  44.5            4\n",
       "2    Arizona     8.1      294        80  31.0            1"
      ]
     },
     "execution_count": 14,
     "metadata": {},
     "output_type": "execute_result"
    }
   ],
   "source": [
    "df.head(3)"
   ]
  },
  {
   "cell_type": "code",
   "execution_count": 15,
   "id": "bc093cd3",
   "metadata": {},
   "outputs": [
    {
     "data": {
      "text/plain": [
       "h_clusterid\n",
       "0    (Arkansas, Connecticut, Delaware, Hawaii, Indi...\n",
       "1    (Arizona, California, Colorado, Florida, Illin...\n",
       "2    (Idaho, Iowa, Maine, Montana, Nebraska, New Ha...\n",
       "3    (Alabama, Georgia, Louisiana, Mississippi, Nor...\n",
       "4                                            (Alaska,)\n",
       "Name: Unnamed: 0, dtype: object"
      ]
     },
     "execution_count": 15,
     "metadata": {},
     "output_type": "execute_result"
    }
   ],
   "source": [
    "df.groupby([\"h_clusterid\"])[\"Unnamed: 0\"].apply(lambda x:tuple(x))"
   ]
  },
  {
   "cell_type": "markdown",
   "id": "6f33cbe7",
   "metadata": {},
   "source": [
    "# K Means"
   ]
  },
  {
   "cell_type": "code",
   "execution_count": 16,
   "id": "15699928",
   "metadata": {},
   "outputs": [],
   "source": [
    "df  = pd.read_csv(\"crime_data.csv\")"
   ]
  },
  {
   "cell_type": "code",
   "execution_count": 17,
   "id": "d41deb4b",
   "metadata": {},
   "outputs": [],
   "source": [
    "fd_norm = norm_func(df.iloc[:,1:])"
   ]
  },
  {
   "cell_type": "code",
   "execution_count": 18,
   "id": "e10867ad",
   "metadata": {},
   "outputs": [],
   "source": [
    "from sklearn.cluster import KMeans"
   ]
  },
  {
   "cell_type": "code",
   "execution_count": 19,
   "id": "bb9fe994",
   "metadata": {},
   "outputs": [
    {
     "data": {
      "text/plain": [
       "KMeans(n_clusters=5)"
      ]
     },
     "execution_count": 19,
     "metadata": {},
     "output_type": "execute_result"
    }
   ],
   "source": [
    "model_kmeans = KMeans(n_clusters=5)\n",
    "model_kmeans.fit(fd_norm)"
   ]
  },
  {
   "cell_type": "code",
   "execution_count": 20,
   "id": "c0e5bd9a",
   "metadata": {},
   "outputs": [
    {
     "data": {
      "text/plain": [
       "array([3, 0, 0, 4, 0, 0, 2, 4, 0, 3, 2, 1, 0, 4, 1, 4, 4, 3, 1, 0, 2, 0,\n",
       "       1, 3, 4, 1, 1, 0, 1, 2, 0, 0, 3, 1, 2, 4, 4, 2, 2, 3, 1, 3, 0, 2,\n",
       "       1, 4, 2, 1, 1, 4])"
      ]
     },
     "execution_count": 20,
     "metadata": {},
     "output_type": "execute_result"
    }
   ],
   "source": [
    "model_kmeans.labels_"
   ]
  },
  {
   "cell_type": "code",
   "execution_count": 21,
   "id": "40f1d32b",
   "metadata": {},
   "outputs": [],
   "source": [
    "dm=pd.Series(model_kmeans.labels_)"
   ]
  },
  {
   "cell_type": "code",
   "execution_count": 22,
   "id": "afb6e0d2",
   "metadata": {},
   "outputs": [],
   "source": [
    "df[\"labels\"]=pd.Series(model_kmeans.labels_)"
   ]
  },
  {
   "cell_type": "code",
   "execution_count": 23,
   "id": "4c9667cd",
   "metadata": {},
   "outputs": [
    {
     "data": {
      "text/html": [
       "<div>\n",
       "<style scoped>\n",
       "    .dataframe tbody tr th:only-of-type {\n",
       "        vertical-align: middle;\n",
       "    }\n",
       "\n",
       "    .dataframe tbody tr th {\n",
       "        vertical-align: top;\n",
       "    }\n",
       "\n",
       "    .dataframe thead th {\n",
       "        text-align: right;\n",
       "    }\n",
       "</style>\n",
       "<table border=\"1\" class=\"dataframe\">\n",
       "  <thead>\n",
       "    <tr style=\"text-align: right;\">\n",
       "      <th></th>\n",
       "      <th>Unnamed: 0</th>\n",
       "      <th>Murder</th>\n",
       "      <th>Assault</th>\n",
       "      <th>UrbanPop</th>\n",
       "      <th>Rape</th>\n",
       "      <th>labels</th>\n",
       "    </tr>\n",
       "  </thead>\n",
       "  <tbody>\n",
       "    <tr>\n",
       "      <th>0</th>\n",
       "      <td>Alabama</td>\n",
       "      <td>13.2</td>\n",
       "      <td>236</td>\n",
       "      <td>58</td>\n",
       "      <td>21.2</td>\n",
       "      <td>3</td>\n",
       "    </tr>\n",
       "    <tr>\n",
       "      <th>1</th>\n",
       "      <td>Alaska</td>\n",
       "      <td>10.0</td>\n",
       "      <td>263</td>\n",
       "      <td>48</td>\n",
       "      <td>44.5</td>\n",
       "      <td>0</td>\n",
       "    </tr>\n",
       "    <tr>\n",
       "      <th>2</th>\n",
       "      <td>Arizona</td>\n",
       "      <td>8.1</td>\n",
       "      <td>294</td>\n",
       "      <td>80</td>\n",
       "      <td>31.0</td>\n",
       "      <td>0</td>\n",
       "    </tr>\n",
       "    <tr>\n",
       "      <th>3</th>\n",
       "      <td>Arkansas</td>\n",
       "      <td>8.8</td>\n",
       "      <td>190</td>\n",
       "      <td>50</td>\n",
       "      <td>19.5</td>\n",
       "      <td>4</td>\n",
       "    </tr>\n",
       "    <tr>\n",
       "      <th>4</th>\n",
       "      <td>California</td>\n",
       "      <td>9.0</td>\n",
       "      <td>276</td>\n",
       "      <td>91</td>\n",
       "      <td>40.6</td>\n",
       "      <td>0</td>\n",
       "    </tr>\n",
       "  </tbody>\n",
       "</table>\n",
       "</div>"
      ],
      "text/plain": [
       "   Unnamed: 0  Murder  Assault  UrbanPop  Rape  labels\n",
       "0     Alabama    13.2      236        58  21.2       3\n",
       "1      Alaska    10.0      263        48  44.5       0\n",
       "2     Arizona     8.1      294        80  31.0       0\n",
       "3    Arkansas     8.8      190        50  19.5       4\n",
       "4  California     9.0      276        91  40.6       0"
      ]
     },
     "execution_count": 23,
     "metadata": {},
     "output_type": "execute_result"
    }
   ],
   "source": [
    "df.head()"
   ]
  },
  {
   "cell_type": "code",
   "execution_count": 24,
   "id": "6d4dfe2e",
   "metadata": {},
   "outputs": [
    {
     "data": {
      "text/plain": [
       "labels\n",
       "0    (Alaska, Arizona, California, Colorado, Florid...\n",
       "1    (Idaho, Iowa, Maine, Minnesota, Montana, Nebra...\n",
       "2    (Connecticut, Hawaii, Massachusetts, New Jerse...\n",
       "3    (Alabama, Georgia, Louisiana, Mississippi, Nor...\n",
       "4    (Arkansas, Delaware, Indiana, Kansas, Kentucky...\n",
       "Name: Unnamed: 0, dtype: object"
      ]
     },
     "execution_count": 24,
     "metadata": {},
     "output_type": "execute_result"
    }
   ],
   "source": [
    "df.groupby([\"labels\"])[\"Unnamed: 0\"].apply(lambda x:tuple(x))"
   ]
  },
  {
   "cell_type": "code",
   "execution_count": 25,
   "id": "2379a29c",
   "metadata": {},
   "outputs": [
    {
     "data": {
      "text/html": [
       "<div>\n",
       "<style scoped>\n",
       "    .dataframe tbody tr th:only-of-type {\n",
       "        vertical-align: middle;\n",
       "    }\n",
       "\n",
       "    .dataframe tbody tr th {\n",
       "        vertical-align: top;\n",
       "    }\n",
       "\n",
       "    .dataframe thead th {\n",
       "        text-align: right;\n",
       "    }\n",
       "</style>\n",
       "<table border=\"1\" class=\"dataframe\">\n",
       "  <thead>\n",
       "    <tr style=\"text-align: right;\">\n",
       "      <th></th>\n",
       "      <th>Unnamed: 0</th>\n",
       "      <th>Murder</th>\n",
       "      <th>Assault</th>\n",
       "      <th>UrbanPop</th>\n",
       "      <th>Rape</th>\n",
       "      <th>labels</th>\n",
       "    </tr>\n",
       "  </thead>\n",
       "  <tbody>\n",
       "    <tr>\n",
       "      <th>3</th>\n",
       "      <td>Arkansas</td>\n",
       "      <td>8.8</td>\n",
       "      <td>190</td>\n",
       "      <td>50</td>\n",
       "      <td>19.5</td>\n",
       "      <td>4</td>\n",
       "    </tr>\n",
       "    <tr>\n",
       "      <th>7</th>\n",
       "      <td>Delaware</td>\n",
       "      <td>5.9</td>\n",
       "      <td>238</td>\n",
       "      <td>72</td>\n",
       "      <td>15.8</td>\n",
       "      <td>4</td>\n",
       "    </tr>\n",
       "    <tr>\n",
       "      <th>13</th>\n",
       "      <td>Indiana</td>\n",
       "      <td>7.2</td>\n",
       "      <td>113</td>\n",
       "      <td>65</td>\n",
       "      <td>21.0</td>\n",
       "      <td>4</td>\n",
       "    </tr>\n",
       "    <tr>\n",
       "      <th>15</th>\n",
       "      <td>Kansas</td>\n",
       "      <td>6.0</td>\n",
       "      <td>115</td>\n",
       "      <td>66</td>\n",
       "      <td>18.0</td>\n",
       "      <td>4</td>\n",
       "    </tr>\n",
       "  </tbody>\n",
       "</table>\n",
       "</div>"
      ],
      "text/plain": [
       "   Unnamed: 0  Murder  Assault  UrbanPop  Rape  labels\n",
       "3    Arkansas     8.8      190        50  19.5       4\n",
       "7    Delaware     5.9      238        72  15.8       4\n",
       "13    Indiana     7.2      113        65  21.0       4\n",
       "15     Kansas     6.0      115        66  18.0       4"
      ]
     },
     "execution_count": 25,
     "metadata": {},
     "output_type": "execute_result"
    }
   ],
   "source": [
    "df[df[\"Unnamed: 0\"].isin([\"Arkansas\", \"Delaware\", \"Indiana\", \"Kansas\"])]"
   ]
  },
  {
   "cell_type": "markdown",
   "id": "30bbb9ca",
   "metadata": {},
   "source": [
    "# DBSCAN"
   ]
  },
  {
   "cell_type": "code",
   "execution_count": 26,
   "id": "917e53c6",
   "metadata": {},
   "outputs": [],
   "source": [
    "from sklearn.cluster import DBSCAN\n",
    "import seaborn as sns\n",
    "from sklearn.preprocessing import MinMaxScaler\n",
    "import matplotlib.pyplot as plt"
   ]
  },
  {
   "cell_type": "code",
   "execution_count": 27,
   "id": "db0ef48e",
   "metadata": {},
   "outputs": [
    {
     "data": {
      "text/plain": [
       "<matplotlib.collections.PathCollection at 0x14c7da93fd0>"
      ]
     },
     "execution_count": 27,
     "metadata": {},
     "output_type": "execute_result"
    },
    {
     "data": {
      "image/png": "[encoded data removed]",
      "text/plain": [
       "<Figure size 640x480 with 1 Axes>"
      ]
     },
     "metadata": {},
     "output_type": "display_data"
    }
   ],
   "source": [
    "ds=DBSCAN(min_samples=3,eps=0.3)\n",
    "class_pr=ds.fit_predict(df.iloc[:,1:5])\n",
    "plt.scatter(df['Murder'],df['Assault'],df['UrbanPop'],c=class_pr,cmap=plt.cm.rainbow_r)"
   ]
  },
  {
   "cell_type": "markdown",
   "id": "dd402e64",
   "metadata": {},
   "source": [
    "# finding the optimal number of cluster"
   ]
  },
  {
   "cell_type": "code",
   "execution_count": 28,
   "id": "8d4cfaf3",
   "metadata": {},
   "outputs": [],
   "source": [
    "df=pd.read_csv(\"crime_data.csv\")"
   ]
  },
  {
   "cell_type": "code",
   "execution_count": 29,
   "id": "2854f16e",
   "metadata": {},
   "outputs": [
    {
     "data": {
      "text/html": [
       "<div>\n",
       "<style scoped>\n",
       "    .dataframe tbody tr th:only-of-type {\n",
       "        vertical-align: middle;\n",
       "    }\n",
       "\n",
       "    .dataframe tbody tr th {\n",
       "        vertical-align: top;\n",
       "    }\n",
       "\n",
       "    .dataframe thead th {\n",
       "        text-align: right;\n",
       "    }\n",
       "</style>\n",
       "<table border=\"1\" class=\"dataframe\">\n",
       "  <thead>\n",
       "    <tr style=\"text-align: right;\">\n",
       "      <th></th>\n",
       "      <th>Unnamed: 0</th>\n",
       "      <th>Murder</th>\n",
       "      <th>Assault</th>\n",
       "      <th>UrbanPop</th>\n",
       "      <th>Rape</th>\n",
       "    </tr>\n",
       "  </thead>\n",
       "  <tbody>\n",
       "    <tr>\n",
       "      <th>17</th>\n",
       "      <td>Louisiana</td>\n",
       "      <td>15.4</td>\n",
       "      <td>249</td>\n",
       "      <td>66</td>\n",
       "      <td>22.2</td>\n",
       "    </tr>\n",
       "    <tr>\n",
       "      <th>22</th>\n",
       "      <td>Minnesota</td>\n",
       "      <td>2.7</td>\n",
       "      <td>72</td>\n",
       "      <td>66</td>\n",
       "      <td>14.9</td>\n",
       "    </tr>\n",
       "    <tr>\n",
       "      <th>45</th>\n",
       "      <td>Virginia</td>\n",
       "      <td>8.5</td>\n",
       "      <td>156</td>\n",
       "      <td>63</td>\n",
       "      <td>20.7</td>\n",
       "    </tr>\n",
       "    <tr>\n",
       "      <th>18</th>\n",
       "      <td>Maine</td>\n",
       "      <td>2.1</td>\n",
       "      <td>83</td>\n",
       "      <td>51</td>\n",
       "      <td>7.8</td>\n",
       "    </tr>\n",
       "    <tr>\n",
       "      <th>46</th>\n",
       "      <td>Washington</td>\n",
       "      <td>4.0</td>\n",
       "      <td>145</td>\n",
       "      <td>73</td>\n",
       "      <td>26.2</td>\n",
       "    </tr>\n",
       "    <tr>\n",
       "      <th>48</th>\n",
       "      <td>Wisconsin</td>\n",
       "      <td>2.6</td>\n",
       "      <td>53</td>\n",
       "      <td>66</td>\n",
       "      <td>10.8</td>\n",
       "    </tr>\n",
       "    <tr>\n",
       "      <th>8</th>\n",
       "      <td>Florida</td>\n",
       "      <td>15.4</td>\n",
       "      <td>335</td>\n",
       "      <td>80</td>\n",
       "      <td>31.9</td>\n",
       "    </tr>\n",
       "    <tr>\n",
       "      <th>15</th>\n",
       "      <td>Kansas</td>\n",
       "      <td>6.0</td>\n",
       "      <td>115</td>\n",
       "      <td>66</td>\n",
       "      <td>18.0</td>\n",
       "    </tr>\n",
       "    <tr>\n",
       "      <th>5</th>\n",
       "      <td>Colorado</td>\n",
       "      <td>7.9</td>\n",
       "      <td>204</td>\n",
       "      <td>78</td>\n",
       "      <td>38.7</td>\n",
       "    </tr>\n",
       "    <tr>\n",
       "      <th>26</th>\n",
       "      <td>Nebraska</td>\n",
       "      <td>4.3</td>\n",
       "      <td>102</td>\n",
       "      <td>62</td>\n",
       "      <td>16.5</td>\n",
       "    </tr>\n",
       "  </tbody>\n",
       "</table>\n",
       "</div>"
      ],
      "text/plain": [
       "    Unnamed: 0  Murder  Assault  UrbanPop  Rape\n",
       "17   Louisiana    15.4      249        66  22.2\n",
       "22   Minnesota     2.7       72        66  14.9\n",
       "45    Virginia     8.5      156        63  20.7\n",
       "18       Maine     2.1       83        51   7.8\n",
       "46  Washington     4.0      145        73  26.2\n",
       "48   Wisconsin     2.6       53        66  10.8\n",
       "8      Florida    15.4      335        80  31.9\n",
       "15      Kansas     6.0      115        66  18.0\n",
       "5     Colorado     7.9      204        78  38.7\n",
       "26    Nebraska     4.3      102        62  16.5"
      ]
     },
     "execution_count": 29,
     "metadata": {},
     "output_type": "execute_result"
    }
   ],
   "source": [
    "df.sample(10)"
   ]
  },
  {
   "cell_type": "code",
   "execution_count": 30,
   "id": "1a06c6ec",
   "metadata": {},
   "outputs": [],
   "source": [
    "cr=[1,2,3,4,5,6,7,8,9]\n",
    "iner=[]\n",
    "for i in cr:\n",
    "    km=KMeans(i)\n",
    "    km.fit(df.iloc[:,[1,2,3,4]])\n",
    "    iner.append(km.inertia_)"
   ]
  },
  {
   "cell_type": "code",
   "execution_count": 31,
   "id": "11836d16",
   "metadata": {},
   "outputs": [
    {
     "data": {
      "image/png": "[encoded data removed]",
      "text/plain": [
       "<Figure size 640x480 with 1 Axes>"
      ]
     },
     "metadata": {},
     "output_type": "display_data"
    }
   ],
   "source": [
    "plt.plot(cr,iner,color=\"black\")\n",
    "plt.scatter(cr,iner,color=\"blue\")\n",
    "plt.show()"
   ]
  },
  {
   "cell_type": "markdown",
   "id": "24f14a1c",
   "metadata": {},
   "source": [
    "# Silhouette_Score"
   ]
  },
  {
   "cell_type": "code",
   "execution_count": 32,
   "id": "fb44e853",
   "metadata": {},
   "outputs": [],
   "source": [
    "from sklearn.metrics import silhouette_score as sil"
   ]
  },
  {
   "cell_type": "code",
   "execution_count": 34,
   "id": "c89ddae1",
   "metadata": {
    "scrolled": true
   },
   "outputs": [],
   "source": [
    "bc=[2,3,4,5,6,7,8,9]\n",
    "sc_s=[]\n",
    "for i in bc:\n",
    "    hc = AgglomerativeClustering(n_clusters=i, affinity= 'euclidean',linkage='complete')\n",
    "    y=hc.fit_predict(df.iloc[:,[1,2,3]])\n",
    "    sc_s.append(sil(df.iloc[:,[1,2,3]],y))"
   ]
  },
  {
   "cell_type": "code",
   "execution_count": 38,
   "id": "ff2d5605",
   "metadata": {},
   "outputs": [
    {
     "data": {
      "text/plain": [
       "<matplotlib.collections.PathCollection at 0x14c006cd910>"
      ]
     },
     "execution_count": 38,
     "metadata": {},
     "output_type": "execute_result"
    },
    {
     "data": {
      "image/png": "[encoded data removed]",
      "text/plain": [
       "<Figure size 640x480 with 1 Axes>"
      ]
     },
     "metadata": {},
     "output_type": "display_data"
    }
   ],
   "source": [
    "plt.plot(bc,sc_s,color=\"green\")\n",
    "plt.scatter(bc,sc_s,color=\"red\")"
   ]
  },
  {
   "cell_type": "code",
   "execution_count": null,
   "id": "8cc597cb",
   "metadata": {},
   "outputs": [],
   "source": []
  }
 ],
 "metadata": {
  "kernelspec": {
   "display_name": "Python 3 (ipykernel)",
   "language": "python",
   "name": "python3"
  },
  "language_info": {
   "codemirror_mode": {
    "name": "ipython",
    "version": 3
   },
   "file_extension": ".py",
   "mimetype": "text/x-python",
   "name": "python",
   "nbconvert_exporter": "python",
   "pygments_lexer": "ipython3",
   "version": "3.9.13"
  }
 },
 "nbformat": 4,
 "nbformat_minor": 5
}
